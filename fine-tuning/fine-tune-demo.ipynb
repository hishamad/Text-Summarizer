{
 "cells": [
  {
   "cell_type": "code",
   "execution_count": null,
   "id": "0847538f-eb46-411e-acc5-37054ba360ee",
   "metadata": {},
   "outputs": [],
   "source": [
    "from transformers import AutoModelForSeq2SeqLM, AutoTokenizer\n",
    "import torch"
   ]
  },
  {
   "cell_type": "code",
   "execution_count": null,
   "id": "4d16cef4-03a5-45a8-a924-3460a9fdfc31",
   "metadata": {},
   "outputs": [],
   "source": [
    "if torch.cuda.is_available():\n",
    "    device = \"cuda\"\n",
    "else:\n",
    "    device = \"cpu\""
   ]
  },
  {
   "cell_type": "code",
   "execution_count": null,
   "id": "6971a379-6f9a-4755-b337-8f81665ecbdb",
   "metadata": {},
   "outputs": [],
   "source": [
    "model_name = \"./final-model\" \n",
    "model = AutoModelForSeq2SeqLM.from_pretrained(model_name).to(device)\n",
    "model.eval()\n",
    "tokenizer = AutoTokenizer.from_pretrained(model_name)"
   ]
  },
  {
   "cell_type": "code",
   "execution_count": null,
   "id": "323833ef-4c1c-4efb-8ca2-453e9890f620",
   "metadata": {
    "scrolled": true
   },
   "outputs": [],
   "source": [
    "while True:\n",
    "    inp = input(\"> \")\n",
    "    if inp == \"\":\n",
    "        continue\n",
    "    elif inp == \"exit\":\n",
    "        break\n",
    "    else:\n",
    "        input_ids = tokenizer(inp, return_tensors=\"pt\").input_ids.to(device)\n",
    "        outputs = model.generate(input_ids=input_ids)\n",
    "        out = tokenizer.decode(outputs[0], skip_special_tokens=True)\n",
    "        print(out)"
   ]
  },
  {
   "cell_type": "code",
   "execution_count": null,
   "id": "2a827bb0-22f7-4354-812a-7f5b36bfe6bc",
   "metadata": {},
   "outputs": [],
   "source": [
    "# Examples\n",
    "\n",
    "# >  This is a really tasty product but it is expensive.\n",
    "# tasty but expensive\n",
    "# >  I like this product. I give it 5/5.\n",
    "# good product\n",
    "# >  I tried it once and it was good. But then when I tried it again, the product have changed and now it is disgusting.\n",
    "# product change and now yuck\n",
    "# >  This is a scam. The pictures does not show the real product.\n",
    "# scam\n",
    "\n",
    "################# Fake reviews from ChatGPT #################\n",
    "# >  I recently purchased the Gourmet Delight Organic Truffle Oil, and it has completely transformed my cooking experience. This truffle oil is nothing short of spectacular. The moment you open the bottle, you are greeted with a rich, earthy aroma that promises an indulgent culinary journey.\n",
    "# truffle oil\n",
    "\n",
    "# >  This Golden Harvest Raw Honey is an absolute gem! The flavor is wonderfully rich and natural, making it perfect for my morning tea and baking needs. You can really taste the quality and purity in every spoonful. Plus, the packaging is convenient and mess-free. I will definitely be buying this again. Highly recommended!\n",
    "# absolutely delicious!\n",
    "\n",
    "# >  Savory Spices Exotic Curry Powder is a game-changer! The blend of spices is perfectly balanced, adding incredible depth and richness to my dishes. Whether I'm making curry, soups, or marinades, this curry powder brings an authentic and vibrant flavor every time. A must-have for any kitchen spice rack!\n",
    "# a curry powder to keep in your cupboard!\n",
    "\n",
    "# >  RealmQuest: Legendary Edition is a masterpiece! The graphics are stunning, and the open-world environment is incredibly immersive. The storyline is captivating with well-developed characters and countless quests that keep you engaged for hours. The multiplayer mode is seamless, making it easy to team up with friends. Whether you're a casual gamer or a hardcore enthusiast, this game is an absolute must-have. Truly, an epic adventure awaits in every session. Highly recommended!\n",
    "# a must-have for any game!\n",
    "\n",
    "# >  The Zenith X9 Pro Smartphone is simply phenomenal! Its sleek design and stunning edge-to-edge display make it a true eye-catcher. Performance-wise, it's lightning fast, handling everything from gaming to multitasking with ease. The camera quality is outstanding, capturing crisp and vibrant photos even in low light. Battery life is impressive, easily lasting all day with heavy use. Plus, the intuitive interface makes navigation a breeze. This phone is a perfect blend of style and functionality. Highly recommend!\n",
    "# a perfect touch!\n",
    "\n",
    "# >  I'm extremely disappointed with the QuickCharge Pro USB Charger. Despite its promising name, it barely charges my devices any faster than a standard charger. Within a week, the charger started to overheat, and the flimsy build quality became evident. The USB ports feel loose, and my cables frequently disconnect. This product is not reliable and certainly not worth the price. I expected much better performance and durability. Save your money and invest in a more reputable charger.\n",
    "# not worth the money\n",
    "\n",
    "# >  I had high hopes for the SoundMax Ultra Headphones, but they were quickly dashed. The sound quality is tinny and lacks depth, with almost no bass to speak of. The build feels cheap and flimsy, and they became uncomfortable after just a short period of use. To make matters worse, the Bluetooth connection frequently drops, making them nearly unusable for any extended listening session. Very disappointed with this purchase—definitely not worth the price. Avoid these headphones and look for a more reliable brand.\n",
    "# disappointing\n",
    "\n",
    "# >  The ErgoLux Executive Office Chair turned out to be a huge letdown. Despite its luxurious look, the comfort level is abysmal. The padding feels thin and uneven, causing discomfort after just an hour of sitting. The adjustment mechanisms are clunky and unreliable, making it difficult to find a comfortable position. To top it off, the chair started squeaking loudly within a few days of use. For the high price, I expected much better quality and durability. Save yourself the trouble and choose a different office chair.\n",
    "# letdown"
   ]
  }
 ],
 "metadata": {
  "kernelspec": {
   "display_name": "Python 3 (ipykernel)",
   "language": "python",
   "name": "python3"
  },
  "language_info": {
   "codemirror_mode": {
    "name": "ipython",
    "version": 3
   },
   "file_extension": ".py",
   "mimetype": "text/x-python",
   "name": "python",
   "nbconvert_exporter": "python",
   "pygments_lexer": "ipython3",
   "version": "3.10.13"
  }
 },
 "nbformat": 4,
 "nbformat_minor": 5
}
