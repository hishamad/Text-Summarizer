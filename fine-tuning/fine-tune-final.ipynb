{
 "cells": [
  {
   "cell_type": "code",
   "execution_count": null,
   "id": "22728ae5-a105-449d-a635-81c14e37b5d6",
   "metadata": {},
   "outputs": [],
   "source": [
    "!pip install -U accelerate --user\n",
    "!pip install -U transformers --user\n",
    "!pip install rouge_score evaluate"
   ]
  },
  {
   "cell_type": "code",
   "execution_count": null,
   "id": "e62efdd6-33e3-492c-b280-06579cd519f1",
   "metadata": {},
   "outputs": [],
   "source": [
    "from transformers import AutoModelForSeq2SeqLM, AutoTokenizer, DataCollatorForSeq2Seq, Seq2SeqTrainingArguments, Seq2SeqTrainer\n",
    "from datasets import load_metric\n",
    "import torch\n",
    "import pandas as pd\n",
    "from tqdm import tqdm\n",
    "from datasets import Dataset\n",
    "import nltk\n",
    "import numpy as np"
   ]
  },
  {
   "cell_type": "code",
   "execution_count": null,
   "id": "d7542f6d-e365-4c17-9a3d-975f7612efff",
   "metadata": {},
   "outputs": [],
   "source": [
    "if torch.cuda.is_available():\n",
    "    device = \"cuda\"\n",
    "else:\n",
    "    device = \"cpu\""
   ]
  },
  {
   "cell_type": "code",
   "execution_count": null,
   "id": "95c96f5f-f5d3-43cb-b942-b3063efc3ee9",
   "metadata": {},
   "outputs": [],
   "source": [
    "model_name = 'google-t5/t5-small'\n",
    "tokenizer = AutoTokenizer.from_pretrained(model_name)\n",
    "model = AutoModelForSeq2SeqLM.from_pretrained(model_name).to(device)"
   ]
  },
  {
   "cell_type": "code",
   "execution_count": null,
   "id": "8bb28867-72fa-49f1-bfb1-ffe5e339a442",
   "metadata": {},
   "outputs": [],
   "source": [
    "dataset_file = './data/reviews.csv'\n",
    "data = pd.read_csv(\"./data/Reviews.csv\")\n",
    "\n",
    "data = data.dropna()\n",
    "data = data.reset_index(drop=True)\n",
    "\n",
    "data = data.loc[:, ['Summary', 'Text']]\n",
    "data['Text']= data['Text'].apply(lambda w: w.lower())\n",
    "data['Summary'] = data['Summary'].apply(lambda w: w.lower())\n",
    "\n",
    "data.head()"
   ]
  },
  {
   "cell_type": "code",
   "execution_count": null,
   "id": "fecb80e8-fe73-4763-a22b-bf611421f7bf",
   "metadata": {
    "editable": true,
    "slideshow": {
     "slide_type": ""
    },
    "tags": []
   },
   "outputs": [],
   "source": [
    "def preprocess(data):\n",
    "    inputs = ['summarize: ' + text for text in data[\"Text\"]]\n",
    "    model_inputs = tokenizer(inputs, max_length=128, truncation=True)\n",
    "    labels = tokenizer(text_target=data[\"Summary\"], max_length=16, truncation=True)\n",
    "    model_inputs[\"labels\"] = labels[\"input_ids\"]\n",
    "    return model_inputs"
   ]
  },
  {
   "cell_type": "code",
   "execution_count": null,
   "id": "e04eb1d3-6662-466f-9614-ffb988db9301",
   "metadata": {},
   "outputs": [],
   "source": [
    "data = data.sample(frac=1, random_state=42).reset_index(drop=True)\n",
    "\n",
    "train_split = 0.8\n",
    "test_split = 1-train_split\n",
    "\n",
    "train_data = data[:int(len(data)*train_split)].reset_index(drop=True)\n",
    "test_data = data[int(len(data)*train_split):].reset_index(drop=True)"
   ]
  },
  {
   "cell_type": "code",
   "execution_count": null,
   "id": "c1a36123-1544-448e-ac0c-13383ce8f5b3",
   "metadata": {},
   "outputs": [],
   "source": [
    "train_data = Dataset.from_pandas(train_data)\n",
    "test_data = Dataset.from_pandas(test_data)\n",
    "\n",
    "tokenized_train = train_data.map(preprocess, batched=True)\n",
    "tokenized_valid = test_data.map(preprocess, batched=True)"
   ]
  },
  {
   "cell_type": "code",
   "execution_count": null,
   "id": "18ed59fe-21fd-4ef2-b584-84089523f884",
   "metadata": {},
   "outputs": [],
   "source": [
    "data_collator = DataCollatorForSeq2Seq(tokenizer, model=model)\n",
    "metric = load_metric(\"rouge\", trust_remote_code=True)"
   ]
  },
  {
   "cell_type": "code",
   "execution_count": null,
   "id": "64913caf-30d8-4b50-bf69-dda73ef559f2",
   "metadata": {},
   "outputs": [],
   "source": [
    "## code from a Huggingface notebook: https://github.com/huggingface/notebooks/blob/main/examples/summarization.ipynb\n",
    "def compute_metrics(eval_pred):\n",
    "    preds, rfs = eval_pred\n",
    "    rfs = np.where(rfs != -100, rfs, tokenizer.pad_token_id)\n",
    "    de_preds = tokenizer.batch_decode(preds, skip_special_tokens=True)\n",
    "    def_rfs = tokenizer.batch_decode(rfs, skip_special_tokens=True)\n",
    "    de_preds = [\"\\n\".join(nltk.sent_tokenize(pred.strip())) for pred in de_preds]\n",
    "    def_rfs = [\"\\n\".join(nltk.sent_tokenize(label.strip())) for label in def_rfs]\n",
    "    metrics = metric.compute(preds=de_preds, references=def_rfs, use_stemmer=True)\n",
    "    metrics = {key: value.mid.fmeasure * 100 for key, value in metrics.items()}\n",
    "    pred_lens = [np.count_nonzero(pred != tokenizer.pad_token_id) for pred in preds]\n",
    "    metrics[\"gen_len\"] = np.mean(pred_lens)\n",
    "    return {k: round(v, 4) for k, v in metrics.items()}"
   ]
  },
  {
   "cell_type": "code",
   "execution_count": null,
   "id": "cba0d621-b16b-4d7f-9be3-3837dd62cecb",
   "metadata": {
    "editable": true,
    "slideshow": {
     "slide_type": ""
    },
    "tags": []
   },
   "outputs": [],
   "source": [
    "batch_size = 32\n",
    "args = Seq2SeqTrainingArguments(\n",
    "    f\"{model_name}_amazon\",\n",
    "    learning_rate=1e-4,\n",
    "    per_device_train_batch_size=batch_size,\n",
    "    per_device_eval_batch_size=batch_size,\n",
    "    weight_decay=1e-2,\n",
    "    save_total_limit=3,\n",
    "    num_train_epochs=45,\n",
    "    predict_with_generate=True,\n",
    "    fp16=True,\n",
    "    eval_strategy = \"epoch\"\n",
    ")"
   ]
  },
  {
   "cell_type": "code",
   "execution_count": null,
   "id": "15761704-a491-485c-be6b-7bc853d9e578",
   "metadata": {},
   "outputs": [],
   "source": [
    "trainer = Seq2SeqTrainer(\n",
    "    model,\n",
    "    args,\n",
    "    train_dataset=tokenized_train,\n",
    "    eval_dataset=tokenized_valid,\n",
    "    data_collator=data_collator,\n",
    "    tokenizer=tokenizer,\n",
    "    compute_metrics=compute_metrics\n",
    ")"
   ]
  },
  {
   "cell_type": "code",
   "execution_count": null,
   "id": "50657351-1377-40e0-a9f0-0cf70c5f9909",
   "metadata": {
    "editable": true,
    "slideshow": {
     "slide_type": ""
    },
    "tags": []
   },
   "outputs": [],
   "source": [
    "trainer.train()"
   ]
  },
  {
   "cell_type": "code",
   "execution_count": null,
   "id": "d86e97fb-a3b0-4977-b7bd-a16273fd8805",
   "metadata": {},
   "outputs": [],
   "source": [
    "trainer.evaluate()"
   ]
  }
 ],
 "metadata": {
  "kernelspec": {
   "display_name": "Python 3 (ipykernel)",
   "language": "python",
   "name": "python3"
  },
  "language_info": {
   "codemirror_mode": {
    "name": "ipython",
    "version": 3
   },
   "file_extension": ".py",
   "mimetype": "text/x-python",
   "name": "python",
   "nbconvert_exporter": "python",
   "pygments_lexer": "ipython3",
   "version": "3.10.13"
  }
 },
 "nbformat": 4,
 "nbformat_minor": 5
}
